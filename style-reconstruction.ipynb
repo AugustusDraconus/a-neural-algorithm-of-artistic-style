{
 "cells": [
  {
   "cell_type": "code",
   "execution_count": null,
   "metadata": {
    "scrolled": false
   },
   "outputs": [],
   "source": [
    "# reproducable randomness\n",
    "from numpy.random import seed\n",
    "seed(1)\n",
    "from tensorflow import set_random_seed\n",
    "set_random_seed(1)"
   ]
  },
  {
   "cell_type": "code",
   "execution_count": null,
   "metadata": {},
   "outputs": [],
   "source": [
    "# Some more magic so that the notebook will reload external python modules;\n",
    "# see http://stackoverflow.com/questions/1907993/autoreload-of-modules-in-ipython\n",
    "%load_ext autoreload\n",
    "%autoreload 2"
   ]
  },
  {
   "cell_type": "code",
   "execution_count": null,
   "metadata": {},
   "outputs": [],
   "source": [
    "from neural_stylization.reconstruct_style import reconstruct_style\n",
    "from neural_stylization.optimizers import SGD, L_BFGS\n",
    "from neural_stylization.util.build_callback import build_callback"
   ]
  },
  {
   "cell_type": "markdown",
   "metadata": {},
   "source": [
    "# SGD"
   ]
  },
  {
   "cell_type": "code",
   "execution_count": null,
   "metadata": {},
   "outputs": [],
   "source": [
    "sgd = reconstruct_style(\n",
    "    style_path='img/styles/starry_night_google.jpg',\n",
    "    image_shape=(500, 300),\n",
    "    optimize=SGD(learning_rate=1e-1),\n",
    "    iterations=100,\n",
    "    callback=build_callback('build/style/starry_night/sgd')\n",
    ")"
   ]
  },
  {
   "cell_type": "markdown",
   "metadata": {},
   "source": [
    "# L-BFGS"
   ]
  },
  {
   "cell_type": "code",
   "execution_count": null,
   "metadata": {},
   "outputs": [],
   "source": [
    "lbfgs = reconstruct_style(\n",
    "    style_path='img/styles/starry_night_google.jpg',\n",
    "    image_shape=(500, 300),\n",
    "    optimize=L_BFGS(),\n",
    "    iterations=10,\n",
    "    callback=build_callback('build/style/starry_night/lbfgs')\n",
    ")"
   ]
  },
  {
   "cell_type": "markdown",
   "metadata": {},
   "source": [
    "## Visualization of all 5 Gatys et al. Style Layer Sets"
   ]
  },
  {
   "cell_type": "code",
   "execution_count": null,
   "metadata": {},
   "outputs": [],
   "source": [
    "block1_conv1 = reconstruct_style(\n",
    "    style_path='img/styles/starry_night_google.jpg',\n",
    "    layer_names=['block1_conv1'],\n",
    "    image_shape=(500, 300),\n",
    "    optimize=L_BFGS(),\n",
    "    iterations=10,\n",
    "    callback=build_callback('build/style/block1_conv1')\n",
    ")\n",
    "block1_conv1.save('tex/img/style/block1_conv1.png')"
   ]
  },
  {
   "cell_type": "code",
   "execution_count": null,
   "metadata": {},
   "outputs": [],
   "source": [
    "block2_conv1 = reconstruct_style(\n",
    "    style_path='img/styles/starry_night_google.jpg',\n",
    "    layer_names=['block1_conv1', 'block2_conv1'],\n",
    "    image_shape=(500, 300),\n",
    "    optimize=L_BFGS(),\n",
    "    iterations=10,\n",
    "    callback=build_callback('build/style/block2_conv1')\n",
    ")\n",
    "block2_conv1.save('tex/img/style/block2_conv1.png')"
   ]
  },
  {
   "cell_type": "code",
   "execution_count": null,
   "metadata": {},
   "outputs": [],
   "source": [
    "block3_conv1 = reconstruct_style(\n",
    "    style_path='img/styles/starry_night_google.jpg',\n",
    "    layer_names=['block1_conv1', 'block2_conv1', 'block3_conv1'],\n",
    "    image_shape=(500, 300),\n",
    "    optimize=L_BFGS(),\n",
    "    iterations=10,\n",
    "    callback=build_callback('build/style/block3_conv1')\n",
    ")\n",
    "block3_conv1.save('tex/img/style/block3_conv1.png')"
   ]
  },
  {
   "cell_type": "code",
   "execution_count": null,
   "metadata": {},
   "outputs": [],
   "source": [
    "block4_conv1 = reconstruct_style(\n",
    "    style_path='img/styles/starry_night_google.jpg',\n",
    "    layer_names=['block1_conv1', 'block2_conv1', 'block3_conv1', 'block4_conv1'],\n",
    "    image_shape=(500, 300),\n",
    "    optimize=L_BFGS(),\n",
    "    iterations=10,\n",
    "    callback=build_callback('build/style/block4_conv1')\n",
    ")\n",
    "block4_conv1.save('tex/img/style/block4_conv1.png')"
   ]
  },
  {
   "cell_type": "code",
   "execution_count": null,
   "metadata": {},
   "outputs": [],
   "source": [
    "block5_conv1 = reconstruct_style(\n",
    "    style_path='img/styles/starry_night_google.jpg',\n",
    "    layer_names=['block1_conv1', 'block2_conv1', 'block3_conv1', 'block4_conv1', 'block5_conv1'],\n",
    "    image_shape=(500, 300),\n",
    "    optimize=L_BFGS(),\n",
    "    iterations=10,\n",
    "    callback=build_callback('build/style/block5_conv1')\n",
    ")\n",
    "block5_conv1.save('tex/img/style/block5_conv1.png')"
   ]
  },
  {
   "cell_type": "markdown",
   "metadata": {},
   "source": [
    "  "
   ]
  }
 ],
 "metadata": {
  "kernelspec": {
   "display_name": "Python 3",
   "language": "python",
   "name": "python3"
  },
  "language_info": {
   "codemirror_mode": {
    "name": "ipython",
    "version": 3
   },
   "file_extension": ".py",
   "mimetype": "text/x-python",
   "name": "python",
   "nbconvert_exporter": "python",
   "pygments_lexer": "ipython3",
   "version": "3.6.2"
  }
 },
 "nbformat": 4,
 "nbformat_minor": 2
}
