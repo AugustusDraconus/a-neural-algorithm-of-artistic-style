{
 "cells": [
  {
   "cell_type": "code",
   "execution_count": null,
   "metadata": {},
   "outputs": [],
   "source": [
    "from numpy.random import seed\n",
    "seed(1)\n",
    "from tensorflow import set_random_seed\n",
    "set_random_seed(1)"
   ]
  },
  {
   "cell_type": "code",
   "execution_count": null,
   "metadata": {},
   "outputs": [],
   "source": [
    "%load_ext autoreload\n",
    "%autoreload 2"
   ]
  },
  {
   "cell_type": "code",
   "execution_count": null,
   "metadata": {
    "scrolled": true
   },
   "outputs": [],
   "source": [
    "from neural_stylization.transfer_style import Stylizer\n",
    "from neural_stylization.optimizers import SGD, L_BFGS\n",
    "from neural_stylization.util.build_callback import build_callback"
   ]
  },
  {
   "cell_type": "code",
   "execution_count": null,
   "metadata": {},
   "outputs": [],
   "source": [
    "# the location of the base content for this notebook\n",
    "CONTENT = 'img/content/tubingen.jpg'\n",
    "CONTENT"
   ]
  },
  {
   "cell_type": "code",
   "execution_count": null,
   "metadata": {},
   "outputs": [],
   "source": [
    "# the standardized dimensions for the images in this notebook\n",
    "DIMS = 500, 300\n",
    "DIMS"
   ]
  },
  {
   "cell_type": "code",
   "execution_count": null,
   "metadata": {},
   "outputs": [],
   "source": [
    "Stylizer()"
   ]
  },
  {
   "cell_type": "markdown",
   "metadata": {},
   "source": [
    "# Vanilla Gradient Descent"
   ]
  },
  {
   "cell_type": "markdown",
   "metadata": {},
   "source": [
    "## Seated Nudes"
   ]
  },
  {
   "cell_type": "code",
   "execution_count": null,
   "metadata": {},
   "outputs": [],
   "source": [
    "sty = Stylizer(content_weight=1, style_weight=2e3)\n",
    "\n",
    "seated_nudes = sty(\n",
    "    content_path=CONTENT,\n",
    "    style_path='img/styles/seated-nude.jpg',\n",
    "    optimize=SGD(learning_rate=5e-5),\n",
    "    iterations=500,\n",
    "    image_size=DIMS,\n",
    "    callback=build_callback('build/transfer/seated-nudes/sgd')\n",
    ")\n",
    "\n",
    "seated_nudes.save('tex/img/transfer/seated-nudes.png')"
   ]
  },
  {
   "cell_type": "markdown",
   "metadata": {},
   "source": [
    "## Starry Starry Night"
   ]
  },
  {
   "cell_type": "code",
   "execution_count": null,
   "metadata": {},
   "outputs": [],
   "source": [
    "sty = Stylizer(content_weight=1, style_weight=1e4)\n",
    "\n",
    "starry_night = sty(\n",
    "    content_path=CONTENT,\n",
    "    style_path='img/styles/starry_night_google.jpg',\n",
    "    optimize=SGD(learning_rate=5e-6),\n",
    "    iterations=500,\n",
    "    image_size=DIMS,\n",
    "    callback=build_callback('build/transfer/starry-night/sgd')\n",
    ")\n",
    "\n",
    "starry_night.save('tex/img/transfer/starry-starry-night.png')"
   ]
  },
  {
   "cell_type": "markdown",
   "metadata": {},
   "source": [
    "## The Scream"
   ]
  },
  {
   "cell_type": "code",
   "execution_count": null,
   "metadata": {
    "scrolled": false
   },
   "outputs": [],
   "source": [
    "sty = Stylizer(content_weight=1, style_weight=1e3)\n",
    "\n",
    "scream = sty(\n",
    "    content_path=CONTENT,\n",
    "    style_path='img/styles/the_scream.jpg',\n",
    "    optimize=SGD(learning_rate=1e-5),\n",
    "    iterations=500,\n",
    "    image_size=DIMS,\n",
    "    callback=build_callback('build/transfer/scream/sgd')\n",
    ")\n",
    "\n",
    "scream.save('tex/img/transfer/scream.png')"
   ]
  },
  {
   "cell_type": "markdown",
   "metadata": {},
   "source": [
    "## Shipwreck"
   ]
  },
  {
   "cell_type": "code",
   "execution_count": null,
   "metadata": {},
   "outputs": [],
   "source": [
    "sty = Stylizer(content_weight=1, style_weight=1e3)\n",
    "\n",
    "shipwreck = sty(\n",
    "    content_path=CONTENT,\n",
    "    style_path='img/styles/shipwreck.jpg',\n",
    "    optimize=SGD(learning_rate=5e-5),\n",
    "    iterations=500,\n",
    "    image_size=DIMS,\n",
    "    callback=build_callback('build/transfer/shipwreck/sgd')\n",
    ")\n",
    "\n",
    "shipwreck.save('tex/img/transfer/shipwreck.png')"
   ]
  },
  {
   "cell_type": "markdown",
   "metadata": {},
   "source": [
    "## Kandinsky"
   ]
  },
  {
   "cell_type": "code",
   "execution_count": null,
   "metadata": {},
   "outputs": [],
   "source": [
    "sty = Stylizer(content_weight=1, style_weight=1e3)\n",
    "\n",
    "kandinsky = sty(\n",
    "    content_path=CONTENT,\n",
    "    style_path='img/styles/kandinsky.jpg',\n",
    "    optimize=SGD(learning_rate=5e-5),\n",
    "    iterations=500,\n",
    "    image_size=DIMS,\n",
    "    callback=build_callback('build/transfer/kandinsky/sgd')\n",
    ")\n",
    "\n",
    "kandinsky.save('tex/img/transfer/kandinsky.png')"
   ]
  },
  {
   "cell_type": "markdown",
   "metadata": {},
   "source": [
    "## Monet"
   ]
  },
  {
   "cell_type": "code",
   "execution_count": null,
   "metadata": {},
   "outputs": [],
   "source": [
    "sty = Stylizer(content_weight=1, style_weight=1e3)\n",
    "\n",
    "monet = sty(\n",
    "    content_path=CONTENT,\n",
    "    style_path='img/styles/monet.jpg',\n",
    "    optimize=SGD(learning_rate=5e-5),\n",
    "    iterations=500,\n",
    "    image_size=DIMS,\n",
    "    callback=build_callback('build/transfer/monet/sgd')\n",
    ")\n",
    "\n",
    "monet.save('tex/img/transfer/monet.png')"
   ]
  },
  {
   "cell_type": "markdown",
   "metadata": {},
   "source": [
    "# L-BFGS Optimization\n",
    "\n",
    "The optimizer used by Gatys et al. (and the corresponding hyperparameters as well)"
   ]
  },
  {
   "cell_type": "markdown",
   "metadata": {},
   "source": [
    "## Seated Nudes"
   ]
  },
  {
   "cell_type": "code",
   "execution_count": null,
   "metadata": {},
   "outputs": [],
   "source": [
    "sty = Stylizer(content_weight=1, style_weight=1e4)\n",
    "\n",
    "seated_nudes = sty(\n",
    "    content_path=CONTENT,\n",
    "    style_path='img/styles/seated-nude.jpg',\n",
    "    optimize=L_BFGS(max_evaluations=20),\n",
    "    iterations=25,\n",
    "    image_size=DIMS,\n",
    "    callback=build_callback('build/transfer/seated-nudes/lbfgs')\n",
    ")\n",
    "\n",
    "seated_nudes.save('tex/img/transfer/seated-nudes.png')"
   ]
  },
  {
   "cell_type": "markdown",
   "metadata": {},
   "source": [
    "## Starry Starry Night"
   ]
  },
  {
   "cell_type": "code",
   "execution_count": null,
   "metadata": {},
   "outputs": [],
   "source": [
    "sty = Stylizer(content_weight=1, style_weight=2e4)\n",
    "\n",
    "starry_night = sty(\n",
    "    content_path=CONTENT,\n",
    "    style_path='img/styles/starry_night_google.jpg',\n",
    "    optimize=L_BFGS(max_evaluations=20),\n",
    "    iterations=30,\n",
    "    image_size=DIMS,\n",
    "    callback=build_callback('build/transfer/starry-night/lbfgs')\n",
    ")\n",
    "\n",
    "starry_night.save('tex/img/transfer/starry-starry-night.png')"
   ]
  },
  {
   "cell_type": "markdown",
   "metadata": {},
   "source": [
    "## The Scream"
   ]
  },
  {
   "cell_type": "code",
   "execution_count": null,
   "metadata": {
    "scrolled": false
   },
   "outputs": [],
   "source": [
    "sty = Stylizer(content_weight=1, style_weight=1e3)\n",
    "\n",
    "scream = sty(\n",
    "    content_path=CONTENT,\n",
    "    style_path='img/styles/the_scream.jpg',\n",
    "    optimize=L_BFGS(max_evaluations=20),\n",
    "    iterations=25,\n",
    "    image_size=DIMS,\n",
    "    callback=build_callback('build/transfer/scream/lbfgs')\n",
    ")\n",
    "\n",
    "scream.save('tex/img/transfer/scream.png')"
   ]
  },
  {
   "cell_type": "markdown",
   "metadata": {},
   "source": [
    "## Shipwreck"
   ]
  },
  {
   "cell_type": "code",
   "execution_count": null,
   "metadata": {},
   "outputs": [],
   "source": [
    "sty = Stylizer(content_weight=1, style_weight=5e3)\n",
    "\n",
    "shipwreck = sty(\n",
    "    content_path=CONTENT,\n",
    "    style_path='img/styles/shipwreck.jpg',\n",
    "    optimize=L_BFGS(max_evaluations=20),\n",
    "    iterations=25,\n",
    "    image_size=DIMS,\n",
    "    callback=build_callback('build/transfer/shipwreck/lbfgs')\n",
    ")\n",
    "\n",
    "shipwreck.save('tex/img/transfer/shipwreck.png')"
   ]
  },
  {
   "cell_type": "markdown",
   "metadata": {},
   "source": [
    "## Kandinsky"
   ]
  },
  {
   "cell_type": "code",
   "execution_count": null,
   "metadata": {},
   "outputs": [],
   "source": [
    "sty = Stylizer(content_weight=1, style_weight=2e3)\n",
    "\n",
    "kandinsky = sty(\n",
    "    content_path=CONTENT,\n",
    "    style_path='img/styles/kandinsky.jpg',\n",
    "    optimize=L_BFGS(max_evaluations=20),\n",
    "    iterations=25,\n",
    "    image_size=DIMS,\n",
    "    callback=build_callback('build/transfer/kandinsky/lbfgs')\n",
    ")\n",
    "\n",
    "kandinsky.save('tex/img/transfer/kandinsky.png')"
   ]
  },
  {
   "cell_type": "markdown",
   "metadata": {},
   "source": [
    "## Monet"
   ]
  },
  {
   "cell_type": "code",
   "execution_count": null,
   "metadata": {},
   "outputs": [],
   "source": [
    "sty = Stylizer(content_weight=1, style_weight=1e4, total_variation_weight=0)\n",
    "\n",
    "monet = sty(\n",
    "    content_path=CONTENT,\n",
    "    style_path='img/styles/monet.jpg',\n",
    "    optimize=L_BFGS(max_evaluations=20),\n",
    "    iterations=10,\n",
    "    image_size=DIMS,\n",
    "    callback=build_callback('build/transfer/monet/lbfgs')\n",
    ")\n",
    "\n",
    "monet.save('tex/img/transfer/monet.png')"
   ]
  },
  {
   "cell_type": "code",
   "execution_count": null,
   "metadata": {},
   "outputs": [],
   "source": [
    "sty = Stylizer(content_weight=1, style_weight=1e4, total_variation_weight=1e-3)\n",
    "\n",
    "monet = sty(\n",
    "    content_path=CONTENT,\n",
    "    style_path='img/styles/monet.jpg',\n",
    "    optimize=L_BFGS(max_evaluations=20),\n",
    "    iterations=10,\n",
    "    image_size=DIMS,\n",
    "    callback=build_callback('build/transfer/monet/lbfgs/tv/1e-3')\n",
    ")\n",
    "\n",
    "monet.save('tex/img/transfer/monet-tv-1e-3.png')"
   ]
  },
  {
   "cell_type": "code",
   "execution_count": null,
   "metadata": {},
   "outputs": [],
   "source": [
    "sty = Stylizer(content_weight=1, style_weight=1e4, total_variation_weight=1)\n",
    "\n",
    "monet = sty(\n",
    "    content_path=CONTENT,\n",
    "    style_path='img/styles/monet.jpg',\n",
    "    optimize=L_BFGS(max_evaluations=20),\n",
    "    iterations=10,\n",
    "    image_size=DIMS,\n",
    "    callback=build_callback('build/transfer/monet/lbfgs/tv/1e0')\n",
    ")\n",
    "\n",
    "monet.save('tex/img/transfer/monet-tv-1e0.png')"
   ]
  },
  {
   "cell_type": "code",
   "execution_count": null,
   "metadata": {},
   "outputs": [],
   "source": [
    "sty = Stylizer(content_weight=1, style_weight=1e4, total_variation_weight=10)\n",
    "\n",
    "monet = sty(\n",
    "    content_path=CONTENT,\n",
    "    style_path='img/styles/monet.jpg',\n",
    "    optimize=L_BFGS(max_evaluations=20),\n",
    "    iterations=10,\n",
    "    image_size=DIMS,\n",
    "    callback=build_callback('build/transfer/monet/lbfgs/tv/1e1')\n",
    ")\n",
    "\n",
    "monet.save('tex/img/transfer/monet-tv-1e1.png')"
   ]
  },
  {
   "cell_type": "markdown",
   "metadata": {},
   "source": [
    " "
   ]
  }
 ],
 "metadata": {
  "kernelspec": {
   "display_name": "Python 3",
   "language": "python",
   "name": "python3"
  },
  "language_info": {
   "codemirror_mode": {
    "name": "ipython",
    "version": 3
   },
   "file_extension": ".py",
   "mimetype": "text/x-python",
   "name": "python",
   "nbconvert_exporter": "python",
   "pygments_lexer": "ipython3",
   "version": "3.6.2"
  }
 },
 "nbformat": 4,
 "nbformat_minor": 2
}
