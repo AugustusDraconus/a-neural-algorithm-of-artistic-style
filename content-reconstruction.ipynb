{
 "cells": [
  {
   "cell_type": "code",
   "execution_count": null,
   "metadata": {},
   "outputs": [],
   "source": [
    "# reproducable randomness\n",
    "from numpy.random import seed\n",
    "seed(1)\n",
    "from tensorflow import set_random_seed\n",
    "set_random_seed(1)"
   ]
  },
  {
   "cell_type": "code",
   "execution_count": null,
   "metadata": {},
   "outputs": [],
   "source": [
    "# Some more magic so that the notebook will reload external python modules;\n",
    "# see http://stackoverflow.com/questions/1907993/autoreload-of-modules-in-ipython\n",
    "%load_ext autoreload\n",
    "%autoreload 2"
   ]
  },
  {
   "cell_type": "code",
   "execution_count": null,
   "metadata": {},
   "outputs": [],
   "source": [
    "from neural_stylization.reconstruct_content import reconstruct_content\n",
    "from neural_stylization.optimizers import SGD, L_BFGS\n",
    "from neural_stylization.util.build_callback import build_callback"
   ]
  },
  {
   "cell_type": "markdown",
   "metadata": {},
   "source": [
    "# SGD"
   ]
  },
  {
   "cell_type": "code",
   "execution_count": null,
   "metadata": {},
   "outputs": [],
   "source": [
    "from keras import backend as K"
   ]
  },
  {
   "cell_type": "code",
   "execution_count": null,
   "metadata": {},
   "outputs": [],
   "source": [
    "block4_conv2_sgd = reconstruct_content(\n",
    "    content_path='img/content/tubingen.jpg',\n",
    "    image_shape=(500, 300),\n",
    "    optimize=SGD(learning_rate=1e-3),\n",
    "    iterations=100,\n",
    "    callback=build_callback('build/content/block4_conv2/sgd')\n",
    ")"
   ]
  },
  {
   "cell_type": "markdown",
   "metadata": {},
   "source": [
    "# L-BFGS"
   ]
  },
  {
   "cell_type": "code",
   "execution_count": null,
   "metadata": {},
   "outputs": [],
   "source": [
    "block4_conv2_lbfgs = reconstruct_content(\n",
    "    content_path='img/content/tubingen.jpg',\n",
    "    image_shape=(500, 300),\n",
    "    optimize=L_BFGS(),\n",
    "    iterations=10,\n",
    "    callback=build_callback('build/content/block4_conv2/lbfgs')\n",
    ")\n",
    "block4_conv2_lbfgs.save('tex/img/content/block4_conv2.png')"
   ]
  },
  {
   "cell_type": "markdown",
   "metadata": {},
   "source": [
    "## Visualization of all 5 Gatys et al. Content Layers"
   ]
  },
  {
   "cell_type": "code",
   "execution_count": null,
   "metadata": {},
   "outputs": [],
   "source": [
    "block1_conv1 = reconstruct_content(\n",
    "    content_path='img/content/tubingen.jpg',\n",
    "    image_shape=(500, 300),\n",
    "    layer_name='block1_conv1',\n",
    "    optimize=L_BFGS(),\n",
    "    iterations=10,\n",
    "    callback=build_callback('build/content/block1_conv1')\n",
    ")\n",
    "block1_conv1.save('tex/img/content/block1_conv1.png')"
   ]
  },
  {
   "cell_type": "code",
   "execution_count": null,
   "metadata": {},
   "outputs": [],
   "source": [
    "block2_conv1 = reconstruct_content(\n",
    "    content_path='img/content/tubingen.jpg',\n",
    "    image_shape=(500, 300),\n",
    "    layer_name='block2_conv1',\n",
    "    optimize=L_BFGS(),\n",
    "    iterations=10,\n",
    "    callback=build_callback('build/content/block2_conv1')\n",
    ")\n",
    "block2_conv1.save('tex/img/content/block2_conv1.png')"
   ]
  },
  {
   "cell_type": "code",
   "execution_count": null,
   "metadata": {},
   "outputs": [],
   "source": [
    "block3_conv1 = reconstruct_content(\n",
    "    content_path='img/content/tubingen.jpg',\n",
    "    image_shape=(500, 300),\n",
    "    layer_name='block3_conv1',\n",
    "    optimize=L_BFGS(),\n",
    "    iterations=10,\n",
    "    callback=build_callback('build/content/block3_conv1')\n",
    ")\n",
    "block3_conv1.save('tex/img/content/block3_conv1.png')"
   ]
  },
  {
   "cell_type": "code",
   "execution_count": null,
   "metadata": {},
   "outputs": [],
   "source": [
    "block4_conv1 = reconstruct_content(\n",
    "    content_path='img/content/tubingen.jpg',\n",
    "    image_shape=(500, 300),\n",
    "    layer_name='block4_conv1',\n",
    "    optimize=L_BFGS(),\n",
    "    iterations=10,\n",
    "    callback=build_callback('build/content/block4_conv1')\n",
    ")\n",
    "block4_conv1.save('tex/img/content/block4_conv1.png')"
   ]
  },
  {
   "cell_type": "code",
   "execution_count": null,
   "metadata": {},
   "outputs": [],
   "source": [
    "block5_conv1 = reconstruct_content(\n",
    "    content_path='img/content/tubingen.jpg',\n",
    "    image_shape=(500, 300),\n",
    "    layer_name='block5_conv1',\n",
    "    optimize=L_BFGS(),\n",
    "    iterations=10,\n",
    "    callback=build_callback('build/content/block5_conv1')\n",
    ")\n",
    "block5_conv1.save('tex/img/content/block5_conv1.png')"
   ]
  },
  {
   "cell_type": "markdown",
   "metadata": {},
   "source": [
    "  "
   ]
  }
 ],
 "metadata": {
  "kernelspec": {
   "display_name": "Python 3",
   "language": "python",
   "name": "python3"
  },
  "language_info": {
   "codemirror_mode": {
    "name": "ipython",
    "version": 3
   },
   "file_extension": ".py",
   "mimetype": "text/x-python",
   "name": "python",
   "nbconvert_exporter": "python",
   "pygments_lexer": "ipython3",
   "version": "3.6.2"
  }
 },
 "nbformat": 4,
 "nbformat_minor": 2
}
