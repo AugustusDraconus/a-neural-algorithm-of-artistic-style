{
 "cells": [
  {
   "cell_type": "code",
   "execution_count": null,
   "metadata": {},
   "outputs": [],
   "source": [
    "from matplotlib import pyplot as plt\n",
    "%matplotlib inline"
   ]
  },
  {
   "cell_type": "code",
   "execution_count": null,
   "metadata": {
    "scrolled": true
   },
   "outputs": [],
   "source": [
    "import numpy as np\n",
    "np.random.seed(1)\n",
    "from tensorflow import set_random_seed\n",
    "set_random_seed(1)"
   ]
  },
  {
   "cell_type": "code",
   "execution_count": null,
   "metadata": {},
   "outputs": [],
   "source": [
    "%load_ext autoreload\n",
    "%autoreload 2"
   ]
  },
  {
   "cell_type": "code",
   "execution_count": null,
   "metadata": {
    "scrolled": true
   },
   "outputs": [],
   "source": [
    "from neural_stylization.transfer_style import Stylizer\n",
    "from neural_stylization.optimizers import SGD, Adam, L_BFGS\n",
    "from neural_stylization.util.build_callback import build_callback\n",
    "from neural_stylization.util.img_util import load_image"
   ]
  },
  {
   "cell_type": "code",
   "execution_count": null,
   "metadata": {},
   "outputs": [],
   "source": [
    "# the shape to load content, style, and ouptut as (w, h)\n",
    "# None implies the size of the content will be used\n",
    "image_size = None\n",
    "# the location of the base content image\n",
    "content_path = 'img/content/samford-sign.jpg'\n",
    "# load and view the image with its dimensions\n",
    "load_image(content_path, image_size)"
   ]
  },
  {
   "cell_type": "code",
   "execution_count": null,
   "metadata": {},
   "outputs": [],
   "source": [
    "# the location of the base style image\n",
    "style_path = 'img/styles/seated-nude.jpg'\n",
    "# load and view the image with its dimensions\n",
    "load_image(style_path, image_size)"
   ]
  },
  {
   "cell_type": "code",
   "execution_count": null,
   "metadata": {},
   "outputs": [],
   "source": [
    "!mkdir -p tex/img/content-layer-selection"
   ]
  },
  {
   "cell_type": "code",
   "execution_count": null,
   "metadata": {},
   "outputs": [],
   "source": [
    "def stylize(iterations: int, content_layer_name: str):\n",
    "    \"\"\"\n",
    "    Stylize the image.\n",
    "    \n",
    "    Args:\n",
    "        iterations: the number of iterations to optimize\n",
    "        content_layer_name: the name of the content layer to use\n",
    "        \n",
    "    Returns: a stylized image\n",
    "    \"\"\"\n",
    "    # create a stylization algorithm\n",
    "    sty = Stylizer(content_weight=1, style_weight=1e4, content_layer_name=content_layer_name)\n",
    "    # create directories for build artifacts\n",
    "    build_dir = 'build/content-layer-selection/{}'.format(content_layer_name)\n",
    "    # create an optimizer for the stylizer\n",
    "    adam = Adam(learning_rate=1e2)\n",
    "    # run the stlization algorithm and store the result\n",
    "    img = sty(\n",
    "        content_path=content_path,\n",
    "        style_path=style_path,\n",
    "        optimize=adam,\n",
    "        iterations=iterations,\n",
    "        image_size=image_size,\n",
    "        callback=build_callback(build_dir)\n",
    "    )\n",
    "    # save the image to the tex directory\n",
    "    tex_out = 'tex/img/content-layer-selection/{}.png'.format(content_layer_name)\n",
    "    img.save(tex_out)"
   ]
  },
  {
   "cell_type": "code",
   "execution_count": null,
   "metadata": {},
   "outputs": [],
   "source": [
    "# the maximum number of times each optimizer is allowed to \n",
    "# evaluate the gradients before termination\n",
    "max_evaluations = 250"
   ]
  },
  {
   "cell_type": "code",
   "execution_count": null,
   "metadata": {},
   "outputs": [],
   "source": [
    "stylize(max_evaluations, 'block3_conv1')"
   ]
  },
  {
   "cell_type": "code",
   "execution_count": null,
   "metadata": {},
   "outputs": [],
   "source": [
    "stylize(max_evaluations, 'block4_conv1')"
   ]
  },
  {
   "cell_type": "code",
   "execution_count": null,
   "metadata": {},
   "outputs": [],
   "source": [
    "stylize(max_evaluations, 'block5_conv1')"
   ]
  },
  {
   "cell_type": "markdown",
   "metadata": {},
   "source": [
    " "
   ]
  }
 ],
 "metadata": {
  "kernelspec": {
   "display_name": "Python 3",
   "language": "python",
   "name": "python3"
  },
  "language_info": {
   "codemirror_mode": {
    "name": "ipython",
    "version": 3
   },
   "file_extension": ".py",
   "mimetype": "text/x-python",
   "name": "python",
   "nbconvert_exporter": "python",
   "pygments_lexer": "ipython3",
   "version": "3.6.2"
  }
 },
 "nbformat": 4,
 "nbformat_minor": 2
}
